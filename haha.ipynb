{
 "cells": [
  {
   "cell_type": "code",
   "execution_count": null,
   "metadata": {
    "collapsed": true
   },
   "outputs": [],
   "source": [
    "import random\n",
    "\n",
    "# 产生0-1之内的随机数\n",
    "random.random()\n",
    "# 产生1-6之内的随机整数\n",
    "random.randint(1, 6)\n",
    "# 产生1-6内的随机数\n",
    "random.uniform(1, 6)\n",
    "# 从列表中随机选出一个元素\n",
    "random.choice([1, 2, 3, 4, 5])\n",
    "# 将列表的数据打乱\n",
    "random.shuffle([1, 2, 3, 4, 5])\n",
    "# 从列表中随机选出3个元素\n",
    "random.sample([1, 2, 3, 4, 5], 3)\n",
    "\n",
    "i = 16\n",
    "# 将十进制转换成二进制\n",
    "j = bin(i)\n",
    "# 将十进制转换成八进制\n",
    "j = oct(i)\n",
    "# 将十进制转换成十六进制\n",
    "j = hex(i)\n",
    "# 将二进制转换成十进制\n",
    "i = '10'\n",
    "j = int(i , 2)\n",
    "# 将八进制转换成二进制\n",
    "i = '10'\n",
    "j = int(i , 8)\n",
    "# 将十六进制转换成二进制\n",
    "i = '10'\n",
    "j = int(i , 16)\n",
    "# 按位运算（与(&)、或(|)、取反(~)、异或(^)）\n",
    "# 按位取反\n",
    "-(x+1)\n"
   ]
  }
 ],
 "metadata": {
  "kernelspec": {
   "display_name": "Python 2",
   "language": "python",
   "name": "python2"
  },
  "language_info": {
   "codemirror_mode": {
    "name": "ipython",
    "version": 2
   },
   "file_extension": ".py",
   "mimetype": "text/x-python",
   "name": "python",
   "nbconvert_exporter": "python",
   "pygments_lexer": "ipython2",
   "version": "2.7.6"
  }
 },
 "nbformat": 4,
 "nbformat_minor": 0
}
